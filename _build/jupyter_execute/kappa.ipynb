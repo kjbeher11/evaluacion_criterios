{
 "cells": [
  {
   "cell_type": "markdown",
   "id": "5dcdd674",
   "metadata": {},
   "source": [
    "### Estadistica de kappa"
   ]
  },
  {
   "cell_type": "code",
   "execution_count": 1,
   "id": "0f96f733",
   "metadata": {},
   "outputs": [],
   "source": [
    "import numpy as np"
   ]
  },
  {
   "cell_type": "markdown",
   "id": "815d603e",
   "metadata": {},
   "source": [
    "Para aplicar este se necesecita hacer una tabla con un formato especifico, cada fila debe ser el criterio que se quiere medir o evaluar, en cada columna colocar las categorias en este caso (Esencial, Util, No necesario). "
   ]
  },
  {
   "cell_type": "code",
   "execution_count": 2,
   "id": "926bc5de",
   "metadata": {},
   "outputs": [
    {
     "name": "stdout",
     "output_type": "stream",
     "text": [
      "# de casos: 13\n",
      "# de evaluadores: 9\n",
      "# de categorías: 3\n",
      "Free-marginal multirater Kappa: 0.333333\n"
     ]
    }
   ],
   "source": [
    "matriz_completa = np.array([\n",
    "    [5, 3, 1],\n",
    "    [8, 1, 0],\n",
    "    [6, 3, 0],\n",
    "    [7, 2, 0],\n",
    "    [7, 2, 0],\n",
    "    [6, 3, 0],\n",
    "    [7, 2, 0],\n",
    "    [6, 3, 0],\n",
    "    [5, 3, 1],\n",
    "    [9, 0, 0],\n",
    "    [6, 2, 1],\n",
    "    [4, 4, 1],\n",
    "    [7, 2, 0]\n",
    "])\n",
    "N = matriz_completa.shape[0]\n",
    "n = np.sum(matriz_completa[0]) \n",
    "k = matriz_completa.shape[1]\n",
    "p_o = (1.0 / (N * n * (n - 1))) * (np.sum(np.square(matriz_completa)) - N * n)\n",
    "p_e = 1.0 / k\n",
    "kappa = (p_o - p_e) / (1.0 - p_e)\n",
    "print(f\"# de casos: {N}\")\n",
    "print(f\"# de evaluadores: {n}\")\n",
    "print(f\"# de categorías: {k}\")\n",
    "print(f\"Free-marginal multirater Kappa: {kappa:.6f}\")"
   ]
  },
  {
   "cell_type": "markdown",
   "id": "7cdd1a43",
   "metadata": {},
   "source": [
    "$$\n",
    "P_o = \\frac{1}{N \\cdot n (n - 1)} \\left( \\sum_{i=1}^{N} \\left( \\sum_{j=1}^{k} n_{ij}^2 \\right) - N \\cdot n \\right)\n",
    "$$\n",
    "Donde:\n",
    "\n",
    "$𝑁$= número de ítems \n",
    "\n",
    "$𝑛$ = número de evaluadores \n",
    "\n",
    "$𝑘$ = número de categorías \n",
    "\n",
    "$𝑛_{ij}$= número de votos del ítem $𝑖$ en la categoría $𝑗$"
   ]
  },
  {
   "cell_type": "markdown",
   "id": "0a78a9b7",
   "metadata": {},
   "source": [
    "Proporción de acuerdo esperado ($P_e$):\n",
    "$$\n",
    "P_e = \\frac{1}{k}\n",
    "$$\n",
    "\n",
    "Kappa libre (Free-marginal multirater Kappa):\n",
    "$$\n",
    "K = \\frac{P_o - P_e}{1 - P_e}\n",
    "$$"
   ]
  },
  {
   "cell_type": "markdown",
   "id": "3537f2e4",
   "metadata": {},
   "source": [
    "Evaluaremos el kappa para cada criterio"
   ]
  },
  {
   "cell_type": "code",
   "execution_count": null,
   "id": "adac207f",
   "metadata": {},
   "outputs": [
    {
     "name": "stdout",
     "output_type": "stream",
     "text": [
      "Ítem  Esencial   Útil   No necesario  Kappa    IC 95%               RVC    RVC′  \n",
      "F1    5          3      1             0.042   [-0.069, 0.153]    55.6%  62.5% \n",
      "F2    8          1      0             0.667   [0.571, 0.763]    88.9%  88.9% \n",
      "F3    6          3      0             0.250   [0.135, 0.365]    66.7%  66.7% \n",
      "F4    7          2      0             0.417   [0.304, 0.529]    77.8%  77.8% \n",
      "F5    7          2      0             0.417   [0.304, 0.529]    77.8%  77.8% \n",
      "F6    6          3      0             0.250   [0.135, 0.365]    66.7%  66.7% \n",
      "F7    7          2      0             0.417   [0.304, 0.529]    77.8%  77.8% \n",
      "F8    6          3      0             0.250   [0.135, 0.365]    66.7%  66.7% \n",
      "F9    5          3      1             0.042   [-0.069, 0.153]    55.6%  62.5% \n",
      "F10   9          0      0             1.000   [1.000, 1.000]   100.0% 100.0% \n",
      "F11   6          2      1             0.167   [0.052, 0.281]    66.7%  75.0% \n",
      "F12   4          4      1             0.000   [-0.109, 0.109]    44.4%  50.0% \n",
      "F13   7          2      0             0.417   [0.304, 0.529]    77.8%  77.8% \n"
     ]
    }
   ],
   "source": [
    "matriz_completa = np.array([\n",
    "    [5, 3, 1],\n",
    "    [8, 1, 0],\n",
    "    [6, 3, 0],\n",
    "    [7, 2, 0],\n",
    "    [7, 2, 0],\n",
    "    [6, 3, 0],\n",
    "    [7, 2, 0],\n",
    "    [6, 3, 0],\n",
    "    [5, 3, 1],\n",
    "    [9, 0, 0],\n",
    "    [6, 2, 1],\n",
    "    [4, 4, 1],\n",
    "    [7, 2, 0]\n",
    "])\n",
    "k = matriz_completa.shape[1]    # categorías\n",
    "N = matriz_completa.shape[0]    # número de ítems\n",
    "def calcular_kappa_libre_ic(fila):\n",
    "    n = np.sum(fila)\n",
    "    p_o = (np.sum(fila**2) - n) / (n * (n - 1))\n",
    "    p_e = 1.0 / k\n",
    "    kappa = (p_o - p_e) / (1.0 - p_e)\n",
    "    se = np.sqrt((p_o * (1 - p_o)) / (n * (n - 1)))\n",
    "    z = 1.96\n",
    "    ic_inf = kappa - z * se\n",
    "    ic_sup = kappa + z * se\n",
    "    return kappa, ic_inf, ic_sup\n",
    "\n",
    "print(f\"{'Ítem':<5} {'Esencial':<10} {'Útil':<6} {'No necesario':<13} {'Kappa':<8} {'IC 95%':<20} {'RVC':<6} {'RVC′':<6}\")\n",
    "for i, fila in enumerate(matriz_completa, 1):\n",
    "    total = np.sum(fila)\n",
    "    esencial = fila[0]\n",
    "    util = fila[1]\n",
    "    no_necesario = fila[2]\n",
    "    kappa, ic_inf, ic_sup = calcular_kappa_libre_ic(fila)\n",
    "\n",
    "    rvc = (esencial / total) * 100\n",
    "    rvc_prima = (esencial / (esencial + util)) * 100 if (esencial + util) > 0 else 0\n",
    "    \n",
    "    print(f\"F{i:<4} {esencial:<10} {util:<6} {no_necesario:<13} {kappa:.3f}   [{ic_inf:.3f}, {ic_sup:.3f}]   {rvc:5.1f}% {rvc_prima:5.1f}% \")"
   ]
  }
 ],
 "metadata": {
  "kernelspec": {
   "display_name": "ml_venv",
   "language": "python",
   "name": "python3"
  },
  "language_info": {
   "codemirror_mode": {
    "name": "ipython",
    "version": 3
   },
   "file_extension": ".py",
   "mimetype": "text/x-python",
   "name": "python",
   "nbconvert_exporter": "python",
   "pygments_lexer": "ipython3",
   "version": "3.9.19"
  }
 },
 "nbformat": 4,
 "nbformat_minor": 5
}